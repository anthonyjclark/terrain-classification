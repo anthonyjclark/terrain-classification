{
 "cells": [
  {
   "cell_type": "code",
   "execution_count": 1,
   "metadata": {},
   "outputs": [],
   "source": [
    "%reload_ext autoreload\n",
    "%autoreload 2\n",
    "%matplotlib inline\n",
    "\n",
    "from fastai.vision import *\n",
    "from fastai.metrics import accuracy, error_rate\n",
    "\n",
    "from gzip import GzipFile"
   ]
  },
  {
   "cell_type": "code",
   "execution_count": 2,
   "metadata": {},
   "outputs": [
    {
     "data": {
      "text/plain": [
       "[PosixPath('../image-data/05-lr-disparity-combo/high'),\n",
       " PosixPath('../image-data/05-lr-disparity-combo/medium'),\n",
       " PosixPath('../image-data/05-lr-disparity-combo/low')]"
      ]
     },
     "execution_count": 2,
     "metadata": {},
     "output_type": "execute_result"
    }
   ],
   "source": [
    "image_path = Path('../image-data/05-lr-disparity-combo/')\n",
    "image_path.ls()"
   ]
  },
  {
   "cell_type": "code",
   "execution_count": 3,
   "metadata": {},
   "outputs": [],
   "source": [
    "class ImageItemList_XChannel(ImageList):\n",
    "    def open(self, fname):\n",
    "        with GzipFile(fname, 'r') as in_file:\n",
    "            np_image = np.load(in_file).astype(np.float32)/255        \n",
    "        return Image(pil2tensor(np_image, np.float32).float())"
   ]
  },
  {
   "cell_type": "code",
   "execution_count": 4,
   "metadata": {},
   "outputs": [],
   "source": [
    "image_size = 256\n",
    "batch_size = 64\n",
    "tfms = get_transforms()"
   ]
  },
  {
   "cell_type": "code",
   "execution_count": 5,
   "metadata": {},
   "outputs": [],
   "source": [
    "data = (ImageItemList_XChannel.from_folder(image_path, extensions='.gz')\n",
    "       .split_by_rand_pct()\n",
    "       .label_from_folder()\n",
    "       .transform(tfms, size=image_size)\n",
    "       .databunch(bs=batch_size)\n",
    "       .normalize()) # Optional"
   ]
  },
  {
   "cell_type": "code",
   "execution_count": 6,
   "metadata": {},
   "outputs": [
    {
     "data": {
      "text/plain": [
       "ImageDataBunch;\n",
       "\n",
       "Train: LabelList (4709 items)\n",
       "x: ImageItemList_XChannel\n",
       "Image (7, 256, 256),Image (7, 256, 256),Image (7, 256, 256),Image (7, 256, 256),Image (7, 256, 256)\n",
       "y: CategoryList\n",
       "high,high,high,high,high\n",
       "Path: ../image-data/05-lr-disparity-combo;\n",
       "\n",
       "Valid: LabelList (1177 items)\n",
       "x: ImageItemList_XChannel\n",
       "Image (7, 256, 256),Image (7, 256, 256),Image (7, 256, 256),Image (7, 256, 256),Image (7, 256, 256)\n",
       "y: CategoryList\n",
       "low,low,high,high,high\n",
       "Path: ../image-data/05-lr-disparity-combo;\n",
       "\n",
       "Test: None"
      ]
     },
     "execution_count": 6,
     "metadata": {},
     "output_type": "execute_result"
    }
   ],
   "source": [
    "data"
   ]
  },
  {
   "cell_type": "code",
   "execution_count": 7,
   "metadata": {},
   "outputs": [
    {
     "data": {
      "text/plain": [
       "(['high', 'low', 'medium'], 3)"
      ]
     },
     "execution_count": 7,
     "metadata": {},
     "output_type": "execute_result"
    }
   ],
   "source": [
    "data.classes, data.c"
   ]
  },
  {
   "cell_type": "code",
   "execution_count": 8,
   "metadata": {},
   "outputs": [],
   "source": [
    "learn = cnn_learner(data, models.resnet34, metrics=[accuracy, error_rate], pretrained=False, callback_fns=ShowGraph)"
   ]
  },
  {
   "cell_type": "code",
   "execution_count": 9,
   "metadata": {},
   "outputs": [],
   "source": [
    "learn.model[0][0] = nn.Conv2d(7, 64, kernel_size=(7, 7), stride=(2, 2), padding=(3, 3), bias=False)\n",
    "learn.model.cuda();"
   ]
  },
  {
   "cell_type": "code",
   "execution_count": 10,
   "metadata": {},
   "outputs": [
    {
     "data": {
      "text/html": [
       "<table border=\"1\" class=\"dataframe\">\n",
       "  <thead>\n",
       "    <tr style=\"text-align: left;\">\n",
       "      <th>epoch</th>\n",
       "      <th>train_loss</th>\n",
       "      <th>valid_loss</th>\n",
       "      <th>accuracy</th>\n",
       "      <th>error_rate</th>\n",
       "      <th>time</th>\n",
       "    </tr>\n",
       "  </thead>\n",
       "  <tbody>\n",
       "    <tr>\n",
       "      <td>0</td>\n",
       "      <td>0.915789</td>\n",
       "      <td>0.636445</td>\n",
       "      <td>0.668649</td>\n",
       "      <td>0.331351</td>\n",
       "      <td>00:37</td>\n",
       "    </tr>\n",
       "    <tr>\n",
       "      <td>1</td>\n",
       "      <td>0.734865</td>\n",
       "      <td>0.560715</td>\n",
       "      <td>0.748513</td>\n",
       "      <td>0.251487</td>\n",
       "      <td>00:37</td>\n",
       "    </tr>\n",
       "    <tr>\n",
       "      <td>2</td>\n",
       "      <td>0.598431</td>\n",
       "      <td>0.499899</td>\n",
       "      <td>0.740017</td>\n",
       "      <td>0.259983</td>\n",
       "      <td>00:36</td>\n",
       "    </tr>\n",
       "    <tr>\n",
       "      <td>3</td>\n",
       "      <td>0.499611</td>\n",
       "      <td>0.292594</td>\n",
       "      <td>0.878505</td>\n",
       "      <td>0.121495</td>\n",
       "      <td>00:36</td>\n",
       "    </tr>\n",
       "    <tr>\n",
       "      <td>4</td>\n",
       "      <td>0.414910</td>\n",
       "      <td>0.249837</td>\n",
       "      <td>0.898046</td>\n",
       "      <td>0.101954</td>\n",
       "      <td>00:36</td>\n",
       "    </tr>\n",
       "    <tr>\n",
       "      <td>5</td>\n",
       "      <td>0.326366</td>\n",
       "      <td>0.200220</td>\n",
       "      <td>0.919286</td>\n",
       "      <td>0.080714</td>\n",
       "      <td>00:36</td>\n",
       "    </tr>\n",
       "    <tr>\n",
       "      <td>6</td>\n",
       "      <td>0.268749</td>\n",
       "      <td>0.179147</td>\n",
       "      <td>0.932031</td>\n",
       "      <td>0.067969</td>\n",
       "      <td>00:40</td>\n",
       "    </tr>\n",
       "    <tr>\n",
       "      <td>7</td>\n",
       "      <td>0.226902</td>\n",
       "      <td>0.131388</td>\n",
       "      <td>0.947324</td>\n",
       "      <td>0.052676</td>\n",
       "      <td>00:40</td>\n",
       "    </tr>\n",
       "    <tr>\n",
       "      <td>8</td>\n",
       "      <td>0.191296</td>\n",
       "      <td>0.112741</td>\n",
       "      <td>0.958369</td>\n",
       "      <td>0.041631</td>\n",
       "      <td>00:40</td>\n",
       "    </tr>\n",
       "    <tr>\n",
       "      <td>9</td>\n",
       "      <td>0.162172</td>\n",
       "      <td>0.106461</td>\n",
       "      <td>0.958369</td>\n",
       "      <td>0.041631</td>\n",
       "      <td>00:37</td>\n",
       "    </tr>\n",
       "  </tbody>\n",
       "</table>"
      ],
      "text/plain": [
       "<IPython.core.display.HTML object>"
      ]
     },
     "metadata": {},
     "output_type": "display_data"
    },
    {
     "data": {
      "image/png": "[encoded data removed]",
      "text/plain": [
       "<Figure size 432x288 with 1 Axes>"
      ]
     },
     "metadata": {},
     "output_type": "display_data"
    }
   ],
   "source": [
    "learn.fit_one_cycle(10)"
   ]
  },
  {
   "cell_type": "code",
   "execution_count": 11,
   "metadata": {},
   "outputs": [],
   "source": [
    "learn.save('stage1-stacked-rgb-disp')"
   ]
  },
  {
   "cell_type": "code",
   "execution_count": 12,
   "metadata": {},
   "outputs": [
    {
     "data": {
      "text/plain": [
       "True"
      ]
     },
     "execution_count": 12,
     "metadata": {},
     "output_type": "execute_result"
    }
   ],
   "source": [
    "interp = ClassificationInterpretation.from_learner(learn)\n",
    "\n",
    "losses, idxs = interp.top_losses()\n",
    "\n",
    "len(data.valid_ds) == len(losses) == len(idxs)"
   ]
  },
  {
   "cell_type": "code",
   "execution_count": 13,
   "metadata": {},
   "outputs": [
    {
     "data": {
      "image/png": "[encoded data removed]",
      "text/plain": [
       "<Figure size 720x720 with 1 Axes>"
      ]
     },
     "metadata": {
      "needs_background": "light"
     },
     "output_type": "display_data"
    }
   ],
   "source": [
    "interp.plot_confusion_matrix(figsize=(12,12), dpi=60)"
   ]
  },
  {
   "cell_type": "code",
   "execution_count": 104,
   "metadata": {},
   "outputs": [
    {
     "data": {
      "text/html": [],
      "text/plain": [
       "<IPython.core.display.HTML object>"
      ]
     },
     "metadata": {},
     "output_type": "display_data"
    },
    {
     "name": "stdout",
     "output_type": "stream",
     "text": [
      "LR Finder is complete, type {learner_name}.recorder.plot() to see the graph.\n"
     ]
    }
   ],
   "source": [
    "learn.lr_find()"
   ]
  },
  {
   "cell_type": "code",
   "execution_count": 105,
   "metadata": {},
   "outputs": [
    {
     "data": {
      "image/png": "[encoded data removed]",
      "text/plain": [
       "<Figure size 432x288 with 1 Axes>"
      ]
     },
     "metadata": {
      "needs_background": "light"
     },
     "output_type": "display_data"
    }
   ],
   "source": [
    "learn.recorder.plot()"
   ]
  },
  {
   "cell_type": "code",
   "execution_count": 106,
   "metadata": {},
   "outputs": [
    {
     "data": {
      "text/html": [
       "<table border=\"1\" class=\"dataframe\">\n",
       "  <thead>\n",
       "    <tr style=\"text-align: left;\">\n",
       "      <th>epoch</th>\n",
       "      <th>train_loss</th>\n",
       "      <th>valid_loss</th>\n",
       "      <th>accuracy</th>\n",
       "      <th>error_rate</th>\n",
       "      <th>time</th>\n",
       "    </tr>\n",
       "  </thead>\n",
       "  <tbody>\n",
       "    <tr>\n",
       "      <td>0</td>\n",
       "      <td>0.322225</td>\n",
       "      <td>0.306808</td>\n",
       "      <td>0.852610</td>\n",
       "      <td>0.147390</td>\n",
       "      <td>00:45</td>\n",
       "    </tr>\n",
       "    <tr>\n",
       "      <td>1</td>\n",
       "      <td>0.319247</td>\n",
       "      <td>0.267408</td>\n",
       "      <td>0.876152</td>\n",
       "      <td>0.123849</td>\n",
       "      <td>00:46</td>\n",
       "    </tr>\n",
       "    <tr>\n",
       "      <td>2</td>\n",
       "      <td>0.308973</td>\n",
       "      <td>0.261618</td>\n",
       "      <td>0.877175</td>\n",
       "      <td>0.122825</td>\n",
       "      <td>00:45</td>\n",
       "    </tr>\n",
       "    <tr>\n",
       "      <td>3</td>\n",
       "      <td>0.296267</td>\n",
       "      <td>0.268056</td>\n",
       "      <td>0.876152</td>\n",
       "      <td>0.123849</td>\n",
       "      <td>00:45</td>\n",
       "    </tr>\n",
       "  </tbody>\n",
       "</table>"
      ],
      "text/plain": [
       "<IPython.core.display.HTML object>"
      ]
     },
     "metadata": {},
     "output_type": "display_data"
    },
    {
     "data": {
      "image/png": "[encoded data removed]",
      "text/plain": [
       "<Figure size 432x288 with 1 Axes>"
      ]
     },
     "metadata": {},
     "output_type": "display_data"
    }
   ],
   "source": [
    "learn.load('stage1-stacked-rgb')\n",
    "learn.unfreeze()\n",
    "learn.fit_one_cycle(4, max_lr=slice(1e-6, 1e-4))"
   ]
  },
  {
   "cell_type": "code",
   "execution_count": 93,
   "metadata": {},
   "outputs": [
    {
     "data": {
      "image/png": "[encoded data removed]",
      "text/plain": [
       "<Figure size 432x288 with 1 Axes>"
      ]
     },
     "metadata": {
      "needs_background": "light"
     },
     "output_type": "display_data"
    }
   ],
   "source": [
    "learn.recorder.plot_losses()\n",
    "x = plt.gca()\n",
    "x.set_title('test')\n",
    "plt.gcf().savefig('test.pdf')"
   ]
  },
  {
   "cell_type": "code",
   "execution_count": null,
   "metadata": {},
   "outputs": [],
   "source": []
  },
  {
   "cell_type": "code",
   "execution_count": null,
   "metadata": {},
   "outputs": [],
   "source": []
  },
  {
   "cell_type": "code",
   "execution_count": null,
   "metadata": {},
   "outputs": [],
   "source": []
  },
  {
   "cell_type": "code",
   "execution_count": null,
   "metadata": {},
   "outputs": [],
   "source": []
  },
  {
   "cell_type": "code",
   "execution_count": null,
   "metadata": {},
   "outputs": [],
   "source": []
  },
  {
   "cell_type": "code",
   "execution_count": null,
   "metadata": {},
   "outputs": [],
   "source": []
  },
  {
   "cell_type": "code",
   "execution_count": 14,
   "metadata": {},
   "outputs": [
    {
     "data": {
      "text/plain": [
       "[PosixPath('../image-data/grass/5-rgb-disparity/high'),\n",
       " PosixPath('../image-data/grass/5-rgb-disparity/medium'),\n",
       " PosixPath('../image-data/grass/5-rgb-disparity/low')]"
      ]
     },
     "execution_count": 14,
     "metadata": {},
     "output_type": "execute_result"
    }
   ],
   "source": [
    "from time import time\n",
    "\n",
    "learn.load('stage1-stacked-rgb-disp')\n",
    "learn.model.training = False\n",
    "\n",
    "grass_path = Path('../image-data/grass/5-rgb-disparity')\n",
    "\n",
    "grass_path.ls()"
   ]
  },
  {
   "cell_type": "code",
   "execution_count": 15,
   "metadata": {},
   "outputs": [
    {
     "name": "stdout",
     "output_type": "stream",
     "text": [
      "../image-data/grass/5-rgb-disparity/high\n",
      "../image-data/grass/5-rgb-disparity/medium\n",
      "../image-data/grass/5-rgb-disparity/low\n",
      "done\n"
     ]
    }
   ],
   "source": [
    "# Doing this in a loop to get running times\n",
    "\n",
    "def open_stacked(fname):\n",
    "    with GzipFile(fname, 'r') as in_file:\n",
    "        np_image = np.load(in_file).astype(np.float32)/255        \n",
    "    return Image(pil2tensor(np_image, np.float32).float())\n",
    "\n",
    "clsses = ['high', 'medium', 'low']\n",
    "totals = [0, 0, 0]\n",
    "correct = [0, 0, 0]\n",
    "\n",
    "total_time = 0\n",
    "\n",
    "for clss_idx, clss in enumerate(clsses):\n",
    "    grass_fnames = grass_path/clss\n",
    "    print(grass_fnames)\n",
    "    for grass_fname in grass_fnames.glob('**/*.gz'):\n",
    "        \n",
    "        img = open_stacked(grass_fname)\n",
    "        \n",
    "        tstart = time()\n",
    "        pred = learn.predict(img)\n",
    "        total_time += time() - tstart\n",
    "        \n",
    "        if str(pred[0]) == clss:\n",
    "            correct[clss_idx] += 1\n",
    "        totals[clss_idx] += 1\n",
    "print('done')"
   ]
  },
  {
   "cell_type": "code",
   "execution_count": 16,
   "metadata": {},
   "outputs": [
    {
     "name": "stdout",
     "output_type": "stream",
     "text": [
      "[0, 0, 295]\n",
      "[284, 295, 295]\n",
      "[0.0, 0.0, 100.0]\n",
      "33.75286041189931\n",
      "8.592437982559204\n"
     ]
    }
   ],
   "source": [
    "print(correct)\n",
    "print(totals)\n",
    "print([c/t*100 for c, t in zip(correct, totals)])\n",
    "print(sum(correct)/sum(totals)*100)\n",
    "print(total_time)"
   ]
  },
  {
   "cell_type": "code",
   "execution_count": null,
   "metadata": {},
   "outputs": [],
   "source": []
  }
 ],
 "metadata": {
  "kernelspec": {
   "display_name": "Python 3",
   "language": "python",
   "name": "python3"
  },
  "language_info": {
   "codemirror_mode": {
    "name": "ipython",
    "version": 3
   },
   "file_extension": ".py",
   "mimetype": "text/x-python",
   "name": "python",
   "nbconvert_exporter": "python",
   "pygments_lexer": "ipython3",
   "version": "3.7.3"
  }
 },
 "nbformat": 4,
 "nbformat_minor": 2
}
