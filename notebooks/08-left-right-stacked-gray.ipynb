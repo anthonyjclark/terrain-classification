{
 "cells": [
  {
   "cell_type": "code",
   "execution_count": 1,
   "metadata": {},
   "outputs": [],
   "source": [
    "%reload_ext autoreload\n",
    "%autoreload 2\n",
    "%matplotlib inline\n",
    "\n",
    "from fastai.vision import *\n",
    "from fastai.metrics import accuracy, error_rate\n",
    "\n",
    "from gzip import GzipFile"
   ]
  },
  {
   "cell_type": "code",
   "execution_count": 2,
   "metadata": {},
   "outputs": [
    {
     "data": {
      "text/plain": [
       "[PosixPath('../image-data/08-stacked-gray/high'),\n",
       " PosixPath('../image-data/08-stacked-gray/medium'),\n",
       " PosixPath('../image-data/08-stacked-gray/low')]"
      ]
     },
     "execution_count": 2,
     "metadata": {},
     "output_type": "execute_result"
    }
   ],
   "source": [
    "image_path = Path('../image-data/08-stacked-gray/')\n",
    "image_path.ls()"
   ]
  },
  {
   "cell_type": "code",
   "execution_count": 3,
   "metadata": {},
   "outputs": [],
   "source": [
    "class ImageItemList_XChannel(ImageList):\n",
    "    def open(self, fname):\n",
    "        with GzipFile(fname, 'r') as in_file:\n",
    "            np_image = np.load(in_file).astype(np.float32)/255        \n",
    "        return Image(pil2tensor(np_image, np.float32).float())"
   ]
  },
  {
   "cell_type": "code",
   "execution_count": 4,
   "metadata": {},
   "outputs": [],
   "source": [
    "image_size = 256\n",
    "batch_size = 64\n",
    "tfms = get_transforms()"
   ]
  },
  {
   "cell_type": "code",
   "execution_count": 5,
   "metadata": {},
   "outputs": [],
   "source": [
    "data = (ImageItemList_XChannel.from_folder(image_path, extensions='.gz')\n",
    "       .split_by_rand_pct()\n",
    "       .label_from_folder()\n",
    "       .transform(tfms, size=image_size)\n",
    "       .databunch(bs=batch_size)\n",
    "       .normalize()) # Optional"
   ]
  },
  {
   "cell_type": "code",
   "execution_count": 6,
   "metadata": {},
   "outputs": [
    {
     "data": {
      "text/plain": [
       "ImageDataBunch;\n",
       "\n",
       "Train: LabelList (4709 items)\n",
       "x: ImageItemList_XChannel\n",
       "Image (2, 256, 256),Image (2, 256, 256),Image (2, 256, 256),Image (2, 256, 256),Image (2, 256, 256)\n",
       "y: CategoryList\n",
       "high,high,high,high,high\n",
       "Path: ../image-data/08-stacked-gray;\n",
       "\n",
       "Valid: LabelList (1177 items)\n",
       "x: ImageItemList_XChannel\n",
       "Image (2, 256, 256),Image (2, 256, 256),Image (2, 256, 256),Image (2, 256, 256),Image (2, 256, 256)\n",
       "y: CategoryList\n",
       "high,low,low,medium,high\n",
       "Path: ../image-data/08-stacked-gray;\n",
       "\n",
       "Test: None"
      ]
     },
     "execution_count": 6,
     "metadata": {},
     "output_type": "execute_result"
    }
   ],
   "source": [
    "data"
   ]
  },
  {
   "cell_type": "code",
   "execution_count": 7,
   "metadata": {},
   "outputs": [
    {
     "data": {
      "text/plain": [
       "(['high', 'low', 'medium'], 3)"
      ]
     },
     "execution_count": 7,
     "metadata": {},
     "output_type": "execute_result"
    }
   ],
   "source": [
    "data.classes, data.c"
   ]
  },
  {
   "cell_type": "code",
   "execution_count": 8,
   "metadata": {},
   "outputs": [],
   "source": [
    "learn = cnn_learner(data, models.resnet34, metrics=[accuracy, error_rate], pretrained=False, callback_fns=ShowGraph)"
   ]
  },
  {
   "cell_type": "code",
   "execution_count": 9,
   "metadata": {},
   "outputs": [],
   "source": [
    "learn.model[0][0] = nn.Conv2d(2, 64, kernel_size=(7, 7), stride=(2, 2), padding=(3, 3), bias=False)\n",
    "learn.model.cuda();"
   ]
  },
  {
   "cell_type": "code",
   "execution_count": 10,
   "metadata": {},
   "outputs": [
    {
     "data": {
      "text/html": [
       "<table border=\"1\" class=\"dataframe\">\n",
       "  <thead>\n",
       "    <tr style=\"text-align: left;\">\n",
       "      <th>epoch</th>\n",
       "      <th>train_loss</th>\n",
       "      <th>valid_loss</th>\n",
       "      <th>accuracy</th>\n",
       "      <th>error_rate</th>\n",
       "      <th>time</th>\n",
       "    </tr>\n",
       "  </thead>\n",
       "  <tbody>\n",
       "    <tr>\n",
       "      <td>0</td>\n",
       "      <td>1.002391</td>\n",
       "      <td>0.666898</td>\n",
       "      <td>0.644860</td>\n",
       "      <td>0.355140</td>\n",
       "      <td>00:21</td>\n",
       "    </tr>\n",
       "    <tr>\n",
       "      <td>1</td>\n",
       "      <td>0.792909</td>\n",
       "      <td>0.693834</td>\n",
       "      <td>0.669499</td>\n",
       "      <td>0.330501</td>\n",
       "      <td>00:19</td>\n",
       "    </tr>\n",
       "    <tr>\n",
       "      <td>2</td>\n",
       "      <td>0.668011</td>\n",
       "      <td>0.631139</td>\n",
       "      <td>0.678845</td>\n",
       "      <td>0.321155</td>\n",
       "      <td>00:19</td>\n",
       "    </tr>\n",
       "    <tr>\n",
       "      <td>3</td>\n",
       "      <td>0.560644</td>\n",
       "      <td>0.410227</td>\n",
       "      <td>0.790144</td>\n",
       "      <td>0.209856</td>\n",
       "      <td>00:19</td>\n",
       "    </tr>\n",
       "    <tr>\n",
       "      <td>4</td>\n",
       "      <td>0.461081</td>\n",
       "      <td>0.282937</td>\n",
       "      <td>0.881903</td>\n",
       "      <td>0.118097</td>\n",
       "      <td>00:20</td>\n",
       "    </tr>\n",
       "    <tr>\n",
       "      <td>5</td>\n",
       "      <td>0.367114</td>\n",
       "      <td>0.265129</td>\n",
       "      <td>0.892099</td>\n",
       "      <td>0.107901</td>\n",
       "      <td>00:19</td>\n",
       "    </tr>\n",
       "    <tr>\n",
       "      <td>6</td>\n",
       "      <td>0.290963</td>\n",
       "      <td>0.165015</td>\n",
       "      <td>0.927782</td>\n",
       "      <td>0.072218</td>\n",
       "      <td>00:19</td>\n",
       "    </tr>\n",
       "    <tr>\n",
       "      <td>7</td>\n",
       "      <td>0.254480</td>\n",
       "      <td>0.139349</td>\n",
       "      <td>0.950722</td>\n",
       "      <td>0.049278</td>\n",
       "      <td>00:19</td>\n",
       "    </tr>\n",
       "    <tr>\n",
       "      <td>8</td>\n",
       "      <td>0.201973</td>\n",
       "      <td>0.127953</td>\n",
       "      <td>0.949023</td>\n",
       "      <td>0.050977</td>\n",
       "      <td>00:19</td>\n",
       "    </tr>\n",
       "    <tr>\n",
       "      <td>9</td>\n",
       "      <td>0.172192</td>\n",
       "      <td>0.116560</td>\n",
       "      <td>0.958369</td>\n",
       "      <td>0.041631</td>\n",
       "      <td>00:18</td>\n",
       "    </tr>\n",
       "  </tbody>\n",
       "</table>"
      ],
      "text/plain": [
       "<IPython.core.display.HTML object>"
      ]
     },
     "metadata": {},
     "output_type": "display_data"
    },
    {
     "data": {
      "image/png": "[encoded data removed]",
      "text/plain": [
       "<Figure size 432x288 with 1 Axes>"
      ]
     },
     "metadata": {},
     "output_type": "display_data"
    }
   ],
   "source": [
    "learn.fit_one_cycle(10)"
   ]
  },
  {
   "cell_type": "code",
   "execution_count": 11,
   "metadata": {},
   "outputs": [],
   "source": [
    "learn.save('stage1-stacked-gray')"
   ]
  },
  {
   "cell_type": "code",
   "execution_count": 12,
   "metadata": {},
   "outputs": [
    {
     "data": {
      "text/plain": [
       "True"
      ]
     },
     "execution_count": 12,
     "metadata": {},
     "output_type": "execute_result"
    }
   ],
   "source": [
    "interp = ClassificationInterpretation.from_learner(learn)\n",
    "\n",
    "losses, idxs = interp.top_losses()\n",
    "\n",
    "len(data.valid_ds) == len(losses) == len(idxs)"
   ]
  },
  {
   "cell_type": "code",
   "execution_count": 13,
   "metadata": {},
   "outputs": [
    {
     "data": {
      "image/png": "[encoded data removed]",
      "text/plain": [
       "<Figure size 720x720 with 1 Axes>"
      ]
     },
     "metadata": {
      "needs_background": "light"
     },
     "output_type": "display_data"
    }
   ],
   "source": [
    "interp.plot_confusion_matrix(figsize=(12,12), dpi=60)"
   ]
  },
  {
   "cell_type": "code",
   "execution_count": null,
   "metadata": {},
   "outputs": [],
   "source": [
    "learn.lr_find()"
   ]
  },
  {
   "cell_type": "code",
   "execution_count": null,
   "metadata": {},
   "outputs": [],
   "source": [
    "learn.recorder.plot()"
   ]
  },
  {
   "cell_type": "code",
   "execution_count": null,
   "metadata": {},
   "outputs": [],
   "source": [
    "learn.recorder.plot_losses()\n",
    "x = plt.gca()\n",
    "x.set_title('test')\n",
    "plt.gcf().savefig('test.pdf')"
   ]
  },
  {
   "cell_type": "code",
   "execution_count": 14,
   "metadata": {},
   "outputs": [
    {
     "data": {
      "text/plain": [
       "[PosixPath('../image-data/grass/8-stacked-gray/high'),\n",
       " PosixPath('../image-data/grass/8-stacked-gray/medium'),\n",
       " PosixPath('../image-data/grass/8-stacked-gray/low')]"
      ]
     },
     "execution_count": 14,
     "metadata": {},
     "output_type": "execute_result"
    }
   ],
   "source": [
    "from time import time\n",
    "\n",
    "learn.load('stage1-stacked-gray')\n",
    "learn.model.training = False\n",
    "\n",
    "grass_path = Path('../image-data/grass/8-stacked-gray')\n",
    "\n",
    "grass_path.ls()"
   ]
  },
  {
   "cell_type": "code",
   "execution_count": 15,
   "metadata": {},
   "outputs": [
    {
     "name": "stdout",
     "output_type": "stream",
     "text": [
      "../image-data/grass/8-stacked-gray/high\n",
      "../image-data/grass/8-stacked-gray/medium\n",
      "../image-data/grass/8-stacked-gray/low\n",
      "done\n"
     ]
    }
   ],
   "source": [
    "# Doing this in a loop to get running times\n",
    "\n",
    "def open_stacked(fname):\n",
    "    with GzipFile(fname, 'r') as in_file:\n",
    "        np_image = np.load(in_file).astype(np.float32)/255        \n",
    "    return Image(pil2tensor(np_image, np.float32).float())\n",
    "\n",
    "clsses = ['high', 'medium', 'low']\n",
    "totals = [0, 0, 0]\n",
    "correct = [0, 0, 0]\n",
    "\n",
    "total_time = 0\n",
    "\n",
    "for clss_idx, clss in enumerate(clsses):\n",
    "    grass_fnames = grass_path/clss\n",
    "    print(grass_fnames)\n",
    "    for grass_fname in grass_fnames.glob('*.gz'):\n",
    "        \n",
    "        img = open_stacked(grass_fname)\n",
    "        \n",
    "        tstart = time()\n",
    "        pred = learn.predict(img)\n",
    "        total_time += time() - tstart\n",
    "        \n",
    "        if str(pred[0]) == clss:\n",
    "            correct[clss_idx] += 1\n",
    "        totals[clss_idx] += 1\n",
    "print('done')"
   ]
  },
  {
   "cell_type": "code",
   "execution_count": 16,
   "metadata": {},
   "outputs": [
    {
     "name": "stdout",
     "output_type": "stream",
     "text": [
      "[268, 97, 84]\n",
      "[284, 295, 295]\n",
      "[94.36619718309859, 32.88135593220339, 28.474576271186443]\n",
      "51.37299771167048\n",
      "6.341181516647339\n"
     ]
    }
   ],
   "source": [
    "print(correct)\n",
    "print(totals)\n",
    "print([c/t*100 for c, t in zip(correct, totals)])\n",
    "print(sum(correct)/sum(totals)*100)\n",
    "print(total_time)"
   ]
  },
  {
   "cell_type": "code",
   "execution_count": null,
   "metadata": {},
   "outputs": [],
   "source": []
  }
 ],
 "metadata": {
  "kernelspec": {
   "display_name": "Python 3",
   "language": "python",
   "name": "python3"
  },
  "language_info": {
   "codemirror_mode": {
    "name": "ipython",
    "version": 3
   },
   "file_extension": ".py",
   "mimetype": "text/x-python",
   "name": "python",
   "nbconvert_exporter": "python",
   "pygments_lexer": "ipython3",
   "version": "3.7.3"
  }
 },
 "nbformat": 4,
 "nbformat_minor": 2
}
