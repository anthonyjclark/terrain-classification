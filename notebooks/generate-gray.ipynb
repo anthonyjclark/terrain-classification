{
 "cells": [
  {
   "cell_type": "code",
   "execution_count": 2,
   "metadata": {},
   "outputs": [],
   "source": [
    "import numpy as np\n",
    "from pathlib import Path\n",
    "from PIL import Image"
   ]
  },
  {
   "cell_type": "code",
   "execution_count": 14,
   "metadata": {
    "scrolled": true
   },
   "outputs": [
    {
     "name": "stdout",
     "output_type": "stream",
     "text": [
      "high 4688\n",
      "medium 3866\n",
      "low 3218\n",
      "11772\n"
     ]
    }
   ],
   "source": [
    "img_dir = Path('/home/ajc/Documents/terrain-classification/image-data/01-single-rgb/')\n",
    "\n",
    "out_dir = Path('/home/ajc/Documents/terrain-classification/image-data/07-single-gray/')\n",
    "\n",
    "img_classes = ['high', 'medium', 'low']\n",
    "\n",
    "total_num_images = 0\n",
    "\n",
    "for clss in img_classes:\n",
    "    \n",
    "    img_fnames = sorted((img_dir / clss).glob('*.jpg'))\n",
    "    \n",
    "    print(clss, len(img_fnames))\n",
    "    \n",
    "    out_dir_class = out_dir / clss\n",
    "    out_dir_class.mkdir(parents=True, exist_ok=True)\n",
    "\n",
    "    for fname in img_fnames:\n",
    "        \n",
    "        out_fname = fname.name\n",
    "        out_fpath = out_dir_class / out_fname\n",
    "\n",
    "        Image.open(fname).convert('L').save(out_fpath)\n",
    "        total_num_images += 1\n",
    "\n",
    "print(total_num_images)"
   ]
  },
  {
   "cell_type": "code",
   "execution_count": 3,
   "metadata": {},
   "outputs": [
    {
     "name": "stdout",
     "output_type": "stream",
     "text": [
      "high/right 284\n",
      "medium/right 295\n",
      "low/right 295\n",
      "874\n"
     ]
    }
   ],
   "source": [
    "img_dir = Path('/home/ajc/Documents/terrain-classification/image-data/grass/1-rgb/')\n",
    "\n",
    "out_dir = Path('/home/ajc/Documents/terrain-classification/image-data/grass/7-gray/')\n",
    "\n",
    "# img_classes = ['high/left', 'medium/left', 'low/left']\n",
    "img_classes = ['high/right', 'medium/right', 'low/right']\n",
    "\n",
    "total_num_images = 0\n",
    "\n",
    "for clss in img_classes:\n",
    "    \n",
    "    img_fnames = sorted((img_dir / clss).glob('*.jpg'))\n",
    "    \n",
    "    print(clss, len(img_fnames))\n",
    "    \n",
    "    out_dir_class = out_dir / clss\n",
    "    out_dir_class.mkdir(parents=True, exist_ok=True)\n",
    "\n",
    "    for fname in img_fnames:\n",
    "        \n",
    "        out_fname = fname.name\n",
    "        out_fpath = out_dir_class / out_fname\n",
    "\n",
    "        Image.open(fname).convert('L').save(out_fpath)\n",
    "        total_num_images += 1\n",
    "\n",
    "print(total_num_images)"
   ]
  },
  {
   "cell_type": "code",
   "execution_count": null,
   "metadata": {},
   "outputs": [],
   "source": []
  }
 ],
 "metadata": {
  "kernelspec": {
   "display_name": "Python 3",
   "language": "python",
   "name": "python3"
  },
  "language_info": {
   "codemirror_mode": {
    "name": "ipython",
    "version": 3
   },
   "file_extension": ".py",
   "mimetype": "text/x-python",
   "name": "python",
   "nbconvert_exporter": "python",
   "pygments_lexer": "ipython3",
   "version": "3.7.3"
  }
 },
 "nbformat": 4,
 "nbformat_minor": 2
}
