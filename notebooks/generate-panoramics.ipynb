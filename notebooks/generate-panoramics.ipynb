{
 "cells": [
  {
   "cell_type": "code",
   "execution_count": 1,
   "metadata": {},
   "outputs": [],
   "source": [
    "# import the necessary packages\n",
    "# python image_stitching_simple.py --images images/scottsdale/test --output output3.png --crop 1\n",
    "# python image_stitching_simple.py --images images/scottsdale --output output4.png --crop 1\n",
    "from imutils import paths\n",
    "import numpy as np\n",
    "# import argparse\n",
    "import imutils\n",
    "import cv2\n",
    "import matplotlib.pyplot as plt\n",
    "\n",
    "\n",
    "from pathlib import Path\n",
    "\n",
    "# # construct the argument parser and parse the arguments\n",
    "# ap = argparse.ArgumentParser()\n",
    "# ap.add_argument(\"-i\", \"--images\", type=str, required=True,\n",
    "#                 help=\"path to input directory of images to stitch\")\n",
    "# ap.add_argument(\"-o\", \"--output\", type=str, required=True,\n",
    "#                 help=\"path to the output image\")\n",
    "# ap.add_argument(\"-c\", \"--crop\", type=int, default=0,\n",
    "#                 help=\"whether to crop out largest rectangular region\")\n",
    "# args = vars(ap.parse_args())\n",
    "\n",
    "args = {\n",
    "    \"images\": \"/home/ajc/Documents/terrain-classification/image-data/tmp\"\n",
    "}"
   ]
  },
  {
   "cell_type": "code",
   "execution_count": 2,
   "metadata": {},
   "outputs": [
    {
     "name": "stdout",
     "output_type": "stream",
     "text": [
      "[INFO] loading images...\n"
     ]
    }
   ],
   "source": [
    "# grab the paths to the input images and initialize our images list\n",
    "print(\"[INFO] loading images...\")\n",
    "imagePaths = sorted(list(paths.list_images(args[\"images\"])))\n",
    "images = []\n",
    "\n",
    "# loop over the image paths, load each one, and add them to our\n",
    "# images to stitch list\n",
    "for imagePath in imagePaths:\n",
    "    image = cv2.imread(imagePath)\n",
    "    images.append(image)"
   ]
  },
  {
   "cell_type": "code",
   "execution_count": 3,
   "metadata": {},
   "outputs": [
    {
     "ename": "IndexError",
     "evalue": "list index out of range",
     "output_type": "error",
     "traceback": [
      "\u001b[0;31m---------------------------------------------------------------------------\u001b[0m",
      "\u001b[0;31mIndexError\u001b[0m                                Traceback (most recent call last)",
      "\u001b[0;32m<ipython-input-3-6aa689ebfff5>\u001b[0m in \u001b[0;36m<module>\u001b[0;34m\u001b[0m\n\u001b[1;32m      1\u001b[0m \u001b[0mfig\u001b[0m\u001b[0;34m,\u001b[0m \u001b[0;34m(\u001b[0m\u001b[0max1\u001b[0m\u001b[0;34m,\u001b[0m \u001b[0max2\u001b[0m\u001b[0;34m)\u001b[0m \u001b[0;34m=\u001b[0m \u001b[0mplt\u001b[0m\u001b[0;34m.\u001b[0m\u001b[0msubplots\u001b[0m\u001b[0;34m(\u001b[0m\u001b[0;36m1\u001b[0m\u001b[0;34m,\u001b[0m \u001b[0;36m2\u001b[0m\u001b[0;34m)\u001b[0m\u001b[0;34m\u001b[0m\u001b[0;34m\u001b[0m\u001b[0m\n\u001b[0;32m----> 2\u001b[0;31m \u001b[0max1\u001b[0m\u001b[0;34m.\u001b[0m\u001b[0mimshow\u001b[0m\u001b[0;34m(\u001b[0m\u001b[0mcv2\u001b[0m\u001b[0;34m.\u001b[0m\u001b[0mcvtColor\u001b[0m\u001b[0;34m(\u001b[0m\u001b[0mimages\u001b[0m\u001b[0;34m[\u001b[0m\u001b[0;36m0\u001b[0m\u001b[0;34m]\u001b[0m\u001b[0;34m,\u001b[0m \u001b[0mcv2\u001b[0m\u001b[0;34m.\u001b[0m\u001b[0mCOLOR_BGR2RGB\u001b[0m\u001b[0;34m)\u001b[0m\u001b[0;34m)\u001b[0m\u001b[0;34m;\u001b[0m\u001b[0;34m\u001b[0m\u001b[0;34m\u001b[0m\u001b[0m\n\u001b[0m\u001b[1;32m      3\u001b[0m \u001b[0max2\u001b[0m\u001b[0;34m.\u001b[0m\u001b[0mimshow\u001b[0m\u001b[0;34m(\u001b[0m\u001b[0mcv2\u001b[0m\u001b[0;34m.\u001b[0m\u001b[0mcvtColor\u001b[0m\u001b[0;34m(\u001b[0m\u001b[0mimages\u001b[0m\u001b[0;34m[\u001b[0m\u001b[0;36m1\u001b[0m\u001b[0;34m]\u001b[0m\u001b[0;34m,\u001b[0m \u001b[0mcv2\u001b[0m\u001b[0;34m.\u001b[0m\u001b[0mCOLOR_BGR2RGB\u001b[0m\u001b[0;34m)\u001b[0m\u001b[0;34m)\u001b[0m\u001b[0;34m;\u001b[0m\u001b[0;34m\u001b[0m\u001b[0;34m\u001b[0m\u001b[0m\n",
      "\u001b[0;31mIndexError\u001b[0m: list index out of range"
     ]
    },
    {
     "data": {
      "image/png": "[encoded data removed]",
      "text/plain": [
       "<Figure size 432x288 with 2 Axes>"
      ]
     },
     "metadata": {
      "needs_background": "light"
     },
     "output_type": "display_data"
    }
   ],
   "source": [
    "fig, (ax1, ax2) = plt.subplots(1, 2)\n",
    "ax1.imshow(cv2.cvtColor(images[0], cv2.COLOR_BGR2RGB));\n",
    "ax2.imshow(cv2.cvtColor(images[1], cv2.COLOR_BGR2RGB));"
   ]
  },
  {
   "cell_type": "code",
   "execution_count": 4,
   "metadata": {},
   "outputs": [],
   "source": [
    "import numpy as np\n",
    "import cv2\n",
    "\n",
    "# import the necessary packages\n",
    "import numpy as np\n",
    "import imutils\n",
    "import cv2\n",
    "\n",
    "class ViewSynthisizer:\n",
    "    def __init__(self):\n",
    "        # determine if we are using OpenCV v3.X and initialize the\n",
    "        # cached homography matrix\n",
    "        self.isv3 = imutils.is_cv3(or_better=True)\n",
    "        self.cachedH = None\n",
    "\n",
    "    def stitch(self, images, ratio=0.75, reprojThresh=4.0):\n",
    "        # unpack the images\n",
    "        (imageB, imageA) = images\n",
    "\n",
    "        # if the cached homography matrix is None, then we need to\n",
    "        # apply keypoint matching to construct it\n",
    "        if self.cachedH is None:\n",
    "            # detect keypoints and extract\n",
    "            (kpsA, featuresA) = self.detectAndDescribe(imageA)\n",
    "            (kpsB, featuresB) = self.detectAndDescribe(imageB)\n",
    "\n",
    "            # match features between the two images\n",
    "            M = self.matchKeypoints(kpsA, kpsB,\n",
    "                featuresA, featuresB, ratio, reprojThresh)\n",
    "\n",
    "            # if the match is None, then there aren't enough matched\n",
    "            # keypoints to create a panorama\n",
    "            if M is None:\n",
    "                return None\n",
    "\n",
    "            # cache the homography matrix\n",
    "            self.cachedH = M[1]\n",
    "\n",
    "        # apply a perspective transform to stitch the images together\n",
    "        # using the cached homography matrix\n",
    "        result = cv2.warpPerspective(imageA, self.cachedH,\n",
    "            (imageA.shape[1] + imageB.shape[1], imageA.shape[0]))\n",
    "        result[0:imageB.shape[0], 0:imageB.shape[1]] = imageB\n",
    "        \n",
    "        self.cachedH = None\n",
    "\n",
    "        # return the stitched image\n",
    "        return result\n",
    "\n",
    "    def detectAndDescribe(self, image):\n",
    "        # convert the image to grayscale\n",
    "        gray = cv2.cvtColor(image, cv2.COLOR_BGR2GRAY)\n",
    "        # detect and extract features from the image\n",
    "        descriptor = cv2.ORB_create()\n",
    "        (kps, features) = descriptor.detectAndCompute(image, None)\n",
    "\n",
    "        # convert the keypoints from KeyPoint objects to NumPy\n",
    "        # arrays\n",
    "        kps = np.float32([kp.pt for kp in kps])\n",
    "\n",
    "        # return a tuple of keypoints and features\n",
    "        return (kps, features)\n",
    "\n",
    "    def matchKeypoints(self, kpsA, kpsB, featuresA, featuresB,\n",
    "        ratio, reprojThresh):\n",
    "        # compute the raw matches and initialize the list of actual\n",
    "        # matches\n",
    "        matcher = cv2.DescriptorMatcher_create(\"BruteForce\")\n",
    "        rawMatches = matcher.knnMatch(featuresA, featuresB, 2)\n",
    "        matches = []\n",
    "\n",
    "        # loop over the raw matches\n",
    "        for m in rawMatches:\n",
    "            # ensure the distance is within a certain ratio of each\n",
    "            # other (i.e. Lowe's ratio test)\n",
    "            if len(m) == 2 and m[0].distance < m[1].distance * ratio:\n",
    "                matches.append((m[0].trainIdx, m[0].queryIdx))\n",
    "\n",
    "        # computing a homography requires at least 4 matches\n",
    "        if len(matches) > 4:\n",
    "            # construct the two sets of points\n",
    "            ptsA = np.float32([kpsA[i] for (_, i) in matches])\n",
    "            ptsB = np.float32([kpsB[i] for (i, _) in matches])\n",
    "\n",
    "            # compute the homography between the two sets of points\n",
    "            (H, status) = cv2.findHomography(ptsA, ptsB, cv2.RANSAC,\n",
    "                reprojThresh)\n",
    "\n",
    "            # return the matches along with the homograpy matrix\n",
    "            # and status of each matched point\n",
    "            return (matches, H, status)\n",
    "\n",
    "        # otherwise, no homograpy could be computed\n",
    "        return None"
   ]
  },
  {
   "cell_type": "code",
   "execution_count": 5,
   "metadata": {},
   "outputs": [
    {
     "name": "stdout",
     "output_type": "stream",
     "text": [
      "high 4688\n",
      "High-Dirt-Full-Left-0.jpg High-Dirt-Full-Right-0.jpg\n",
      "High-Dirt-Full-Left-1.jpg High-Dirt-Full-Right-1.jpg\n",
      "High-Dirt-Full-Left-10.jpg High-Dirt-Full-Right-10.jpg\n",
      "High-Dirt-Full-Left-100.jpg High-Dirt-Full-Right-100.jpg\n",
      "High-Dirt-Full-Left-101.jpg High-Dirt-Full-Right-101.jpg\n",
      "High-Dirt-Full-Left-102.jpg High-Dirt-Full-Right-102.jpg\n",
      "High-Dirt-Full-Left-103.jpg High-Dirt-Full-Right-103.jpg\n",
      "High-Dirt-Full-Left-104.jpg High-Dirt-Full-Right-104.jpg\n",
      "High-Dirt-Full-Left-105.jpg High-Dirt-Full-Right-105.jpg\n",
      "High-Dirt-Full-Left-106.jpg High-Dirt-Full-Right-106.jpg\n",
      "High-Dirt-Full-Left-107.jpg High-Dirt-Full-Right-107.jpg\n",
      "High-Dirt-Full-Left-108.jpg High-Dirt-Full-Right-108.jpg\n",
      "High-Dirt-Full-Left-109.jpg High-Dirt-Full-Right-109.jpg\n",
      "High-Dirt-Full-Left-11.jpg High-Dirt-Full-Right-11.jpg\n",
      "High-Dirt-Full-Left-110.jpg High-Dirt-Full-Right-110.jpg\n",
      "High-Dirt-Full-Left-111.jpg High-Dirt-Full-Right-111.jpg\n",
      "High-Dirt-Full-Left-112.jpg High-Dirt-Full-Right-112.jpg\n",
      "High-Dirt-Full-Left-113.jpg High-Dirt-Full-Right-113.jpg\n",
      "High-Dirt-Full-Left-114.jpg High-Dirt-Full-Right-114.jpg\n",
      "High-Dirt-Full-Left-115.jpg High-Dirt-Full-Right-115.jpg\n",
      "High-Dirt-Full-Left-117.jpg High-Dirt-Full-Right-117.jpg\n",
      "High-Dirt-Full-Left-118.jpg High-Dirt-Full-Right-118.jpg\n",
      "High-Dirt-Full-Left-119.jpg High-Dirt-Full-Right-119.jpg\n",
      "High-Dirt-Full-Left-12.jpg High-Dirt-Full-Right-12.jpg\n",
      "High-Dirt-Full-Left-121.jpg High-Dirt-Full-Right-121.jpg\n",
      "High-Dirt-Full-Left-122.jpg High-Dirt-Full-Right-122.jpg\n",
      "High-Dirt-Full-Left-123.jpg High-Dirt-Full-Right-123.jpg\n",
      "High-Dirt-Full-Left-124.jpg High-Dirt-Full-Right-124.jpg\n",
      "High-Dirt-Full-Left-126.jpg High-Dirt-Full-Right-126.jpg\n",
      "High-Dirt-Full-Left-128.jpg High-Dirt-Full-Right-128.jpg\n"
     ]
    },
    {
     "ename": "error",
     "evalue": "OpenCV(3.4.2) /tmp/build/80754af9/opencv-suite_1535558553474/work/modules/imgproc/src/imgwarp.cpp:2926: error: (-215:Assertion failed) (M0.type() == 5 || M0.type() == 6) && M0.rows == 3 && M0.cols == 3 in function 'warpPerspective'\n",
     "output_type": "error",
     "traceback": [
      "\u001b[0;31m---------------------------------------------------------------------------\u001b[0m",
      "\u001b[0;31merror\u001b[0m                                     Traceback (most recent call last)",
      "\u001b[0;32m<ipython-input-5-b2c987925518>\u001b[0m in \u001b[0;36m<module>\u001b[0;34m\u001b[0m\n\u001b[1;32m     24\u001b[0m         \u001b[0mimg_right\u001b[0m \u001b[0;34m=\u001b[0m \u001b[0mplt\u001b[0m\u001b[0;34m.\u001b[0m\u001b[0mimread\u001b[0m\u001b[0;34m(\u001b[0m\u001b[0mfname_right\u001b[0m\u001b[0;34m)\u001b[0m\u001b[0;31m#cv2.imread(str(fname_right))\u001b[0m\u001b[0;34m\u001b[0m\u001b[0;34m\u001b[0m\u001b[0m\n\u001b[1;32m     25\u001b[0m \u001b[0;34m\u001b[0m\u001b[0m\n\u001b[0;32m---> 26\u001b[0;31m         \u001b[0mpan_frame\u001b[0m \u001b[0;34m=\u001b[0m \u001b[0msynth\u001b[0m\u001b[0;34m.\u001b[0m\u001b[0mstitch\u001b[0m\u001b[0;34m(\u001b[0m\u001b[0;34m[\u001b[0m\u001b[0mimg_left\u001b[0m\u001b[0;34m,\u001b[0m \u001b[0mimg_right\u001b[0m\u001b[0;34m]\u001b[0m\u001b[0;34m)\u001b[0m\u001b[0;34m\u001b[0m\u001b[0;34m\u001b[0m\u001b[0m\n\u001b[0m\u001b[1;32m     27\u001b[0m \u001b[0;34m\u001b[0m\u001b[0m\n\u001b[1;32m     28\u001b[0m         \u001b[0mout_fname\u001b[0m \u001b[0;34m=\u001b[0m \u001b[0mfname_left\u001b[0m\u001b[0;34m.\u001b[0m\u001b[0mname\u001b[0m\u001b[0;34m\u001b[0m\u001b[0;34m\u001b[0m\u001b[0m\n",
      "\u001b[0;32m<ipython-input-4-324378ca4f27>\u001b[0m in \u001b[0;36mstitch\u001b[0;34m(self, images, ratio, reprojThresh)\u001b[0m\n\u001b[1;32m     40\u001b[0m         \u001b[0;31m# using the cached homography matrix\u001b[0m\u001b[0;34m\u001b[0m\u001b[0;34m\u001b[0m\u001b[0;34m\u001b[0m\u001b[0m\n\u001b[1;32m     41\u001b[0m         result = cv2.warpPerspective(imageA, self.cachedH,\n\u001b[0;32m---> 42\u001b[0;31m             (imageA.shape[1] + imageB.shape[1], imageA.shape[0]))\n\u001b[0m\u001b[1;32m     43\u001b[0m         \u001b[0mresult\u001b[0m\u001b[0;34m[\u001b[0m\u001b[0;36m0\u001b[0m\u001b[0;34m:\u001b[0m\u001b[0mimageB\u001b[0m\u001b[0;34m.\u001b[0m\u001b[0mshape\u001b[0m\u001b[0;34m[\u001b[0m\u001b[0;36m0\u001b[0m\u001b[0;34m]\u001b[0m\u001b[0;34m,\u001b[0m \u001b[0;36m0\u001b[0m\u001b[0;34m:\u001b[0m\u001b[0mimageB\u001b[0m\u001b[0;34m.\u001b[0m\u001b[0mshape\u001b[0m\u001b[0;34m[\u001b[0m\u001b[0;36m1\u001b[0m\u001b[0;34m]\u001b[0m\u001b[0;34m]\u001b[0m \u001b[0;34m=\u001b[0m \u001b[0mimageB\u001b[0m\u001b[0;34m\u001b[0m\u001b[0;34m\u001b[0m\u001b[0m\n\u001b[1;32m     44\u001b[0m \u001b[0;34m\u001b[0m\u001b[0m\n",
      "\u001b[0;31merror\u001b[0m: OpenCV(3.4.2) /tmp/build/80754af9/opencv-suite_1535558553474/work/modules/imgproc/src/imgwarp.cpp:2926: error: (-215:Assertion failed) (M0.type() == 5 || M0.type() == 6) && M0.rows == 3 && M0.cols == 3 in function 'warpPerspective'\n"
     ]
    }
   ],
   "source": [
    "img_dir = Path('/home/ajc/Documents/terrain-classification/image-data/01-single-rgb/')\n",
    "\n",
    "out_dir = Path('/home/ajc/Documents/terrain-classification/image-data/03-panoramas/')\n",
    "\n",
    "img_classes = ['high', 'medium', 'low']\n",
    "\n",
    "synth = ViewSynthisizer()\n",
    "\n",
    "num_dead = 0\n",
    "\n",
    "for clss in img_classes:\n",
    "    \n",
    "    img_fnames_left = sorted((img_dir / clss).glob('*eft-[0-9]*.jpg'))\n",
    "    img_fnames_right = sorted((img_dir / clss).glob('*ight-[0-9]*.jpg'))\n",
    "    \n",
    "    print(clss, len(img_fnames_right)*2)\n",
    "    \n",
    "    out_dir_class = out_dir / clss\n",
    "    out_dir_class.mkdir(parents=True, exist_ok=True)\n",
    "\n",
    "    for fname_left, fname_right in zip(img_fnames_left, img_fnames_right):\n",
    "\n",
    "        img_left = plt.imread(fname_left)# cv2.imread(str(fname_left))\n",
    "        img_right = plt.imread(fname_right)#cv2.imread(str(fname_right))\n",
    "\n",
    "        pan_frame = synth.stitch([img_left, img_right])\n",
    "        \n",
    "        out_fname = fname_left.name\n",
    "        out_fpath = out_dir_class / out_fname\n",
    "        \n",
    "        if pan_frame is None:\n",
    "            print(fname_left.name, fname_right.name)\n",
    "            num_dead += 1\n",
    "        \n",
    "        else:\n",
    "            plt.imsave(out_fpath, pan_frame)\n",
    "        \n",
    "#         break\n",
    "#     break\n",
    "\n",
    "print(num_dead)"
   ]
  },
  {
   "cell_type": "code",
   "execution_count": null,
   "metadata": {},
   "outputs": [],
   "source": []
  }
 ],
 "metadata": {
  "kernelspec": {
   "display_name": "Python 3",
   "language": "python",
   "name": "python3"
  },
  "language_info": {
   "codemirror_mode": {
    "name": "ipython",
    "version": 3
   },
   "file_extension": ".py",
   "mimetype": "text/x-python",
   "name": "python",
   "nbconvert_exporter": "python",
   "pygments_lexer": "ipython3",
   "version": "3.7.3"
  }
 },
 "nbformat": 4,
 "nbformat_minor": 2
}
